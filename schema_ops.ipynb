{
 "cells": [
  {
   "cell_type": "code",
   "execution_count": 26,
   "metadata": {},
   "outputs": [],
   "source": [
    "import json\n",
    "\n",
    "with open(\"./src/schema.json\", 'r') as f:\n",
    "    schema_in = f.read()"
   ]
  },
  {
   "cell_type": "code",
   "execution_count": 27,
   "metadata": {},
   "outputs": [],
   "source": [
    "schema_json = json.loads(schema_in)\n",
    "stack =  [schema_json]\n",
    "\n",
    "while len(stack) > 0:\n",
    "    current = stack.pop(0)\n",
    "    for k,v in [i for i in current.items()]:\n",
    "        if isinstance(v,dict):\n",
    "            stack.append(v)\n",
    "        elif isinstance(v,list):\n",
    "            for item in v:\n",
    "                if isinstance(item,dict):\n",
    "                    stack.append(item)\n",
    "        elif k == \"markdownDescription\" and not \"description\" in current:\n",
    "            current[\"description\"] = v\n"
   ]
  },
  {
   "cell_type": "code",
   "execution_count": 28,
   "metadata": {},
   "outputs": [],
   "source": [
    "with open(\"./src/schema_updated.json\", 'w') as f:\n",
    "    json.dump(schema_json, f, indent=4)"
   ]
  }
 ],
 "metadata": {
  "kernelspec": {
   "display_name": "Python 3",
   "language": "python",
   "name": "python3"
  },
  "language_info": {
   "codemirror_mode": {
    "name": "ipython",
    "version": 3
   },
   "file_extension": ".py",
   "mimetype": "text/x-python",
   "name": "python",
   "nbconvert_exporter": "python",
   "pygments_lexer": "ipython3",
   "version": "3.11.6"
  }
 },
 "nbformat": 4,
 "nbformat_minor": 2
}
